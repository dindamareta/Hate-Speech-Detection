{
  "nbformat": 4,
  "nbformat_minor": 0,
  "metadata": {
    "colab": {
      "name": "Hate_Speech_Detection.ipynb",
      "provenance": [],
      "collapsed_sections": [],
      "authorship_tag": "ABX9TyPnumRZif3YVzFlLQy75ACh",
      "include_colab_link": true
    },
    "kernelspec": {
      "display_name": "Python 3",
      "name": "python3"
    }
  },
  "cells": [
    {
      "cell_type": "markdown",
      "metadata": {
        "id": "view-in-github",
        "colab_type": "text"
      },
      "source": [
        "<a href=\"https://colab.research.google.com/github/dindamareta/Hate-Speech-Detection/blob/master/Hate_Speech_Detection.ipynb\" target=\"_parent\"><img src=\"https://colab.research.google.com/assets/colab-badge.svg\" alt=\"Open In Colab\"/></a>"
      ]
    },
    {
      "cell_type": "markdown",
      "metadata": {
        "id": "o9oPeieox0L8"
      },
      "source": [
        "*Data Science Course - Telkom Digital Talent Incubator 2020*\n",
        "\n",
        "Dinda Mareta Putriany\n",
        "<br> DS0207\n",
        "\n",
        "---"
      ]
    },
    {
      "cell_type": "markdown",
      "metadata": {
        "id": "Jew_LB5YMkJ2"
      },
      "source": [
        "# Hate Speech Detection"
      ]
    },
    {
      "cell_type": "markdown",
      "metadata": {
        "id": "Vj0ic1QRNWD6"
      },
      "source": [
        "Hate speech detection merupakan deteksi ujaran kebencian yang dilakukan oleh suatu individu atau kelompok dalam bentuk provokasi, hasutan, ataupun hinaan kepada individu atau kelompok yang lain dalam hal berbagai aspek. Pada studi kasus ini menggunakan dataset dari https://github.com/ialfina/id-hatespeech-detection yang sebelumnya saya ubah menjadi .csv. Dataset berupa text dari tweet personal akun di twitter. Tujuan dari studi kasus ini adalah melakukan text mining untuk memprediksi text termasuk ujaran kebencian (Hate Speech) atau bukan ujaran kebencian (Non-Hate Speech). Tweet akan diprediksi menggunakan metode klasifikasi Random Forest, KNN, dan Naive Bayes.   "
      ]
    },
    {
      "cell_type": "markdown",
      "metadata": {
        "id": "Hg7FRoYhmQ3w"
      },
      "source": [
        "### *Import Library*"
      ]
    },
    {
      "cell_type": "code",
      "metadata": {
        "colab": {
          "base_uri": "https://localhost:8080/"
        },
        "id": "YUGLYc0TBWZd",
        "outputId": "47321f12-ea45-48ae-847e-16fada830876"
      },
      "source": [
        "# Install Library\n",
        "! pip install nltk\n",
        "! pip install Sastrawi"
      ],
      "execution_count": 1,
      "outputs": [
        {
          "output_type": "stream",
          "text": [
            "Requirement already satisfied: nltk in /usr/local/lib/python3.6/dist-packages (3.2.5)\n",
            "Requirement already satisfied: six in /usr/local/lib/python3.6/dist-packages (from nltk) (1.15.0)\n",
            "Requirement already satisfied: Sastrawi in /usr/local/lib/python3.6/dist-packages (1.0.1)\n"
          ],
          "name": "stdout"
        }
      ]
    },
    {
      "cell_type": "code",
      "metadata": {
        "id": "Pm_gdXBsyIqU"
      },
      "source": [
        "# Import Library\n",
        "import nltk\n",
        "import re\n",
        "import pandas as pd\n",
        "import numpy as np\n",
        "import seaborn as sns\n",
        "from nltk.tokenize import sent_tokenize, word_tokenize\n",
        "from nltk.corpus import stopwords\n",
        "from Sastrawi.Stemmer.StemmerFactory import StemmerFactory\n",
        "from sklearn.model_selection import train_test_split, cross_val_score\n",
        "from sklearn import metrics\n",
        "from sklearn.ensemble import RandomForestClassifier\n",
        "from sklearn.neighbors import KNeighborsClassifier\n",
        "from sklearn.metrics import classification_report\n",
        "from sklearn.feature_extraction.text import TfidfVectorizer\n",
        "from mlxtend.plotting import plot_confusion_matrix\n",
        "from sklearn.preprocessing import StandardScaler\n",
        "from sklearn.naive_bayes import MultinomialNB\n",
        "import string \n",
        "import matplotlib.pyplot as plt"
      ],
      "execution_count": 49,
      "outputs": []
    },
    {
      "cell_type": "markdown",
      "metadata": {
        "id": "OmUi3PQQyORE"
      },
      "source": [
        "### *Import Dataset*"
      ]
    },
    {
      "cell_type": "markdown",
      "metadata": {
        "id": "p7pwlhqOmW7w"
      },
      "source": [
        "Data memiliki 2 atribut, yaitu **label** dan **tweet**.  Atribut **‘label’** sebagai target yang terdiri atas kelas **‘HS’ (Hate Speech)** dan **‘Non_HS (Non-Hate Speech)’**. Sedangkan Atribut **‘tweet’** berisi text tweet."
      ]
    },
    {
      "cell_type": "code",
      "metadata": {
        "colab": {
          "base_uri": "https://localhost:8080/",
          "height": 198
        },
        "id": "lWv1UP_ZxwIw",
        "outputId": "c82cdb75-530f-4a4d-fbbd-f23a7329d00d"
      },
      "source": [
        "# Import Data \n",
        "df = pd.read_csv('https://raw.githubusercontent.com/dindamareta/Hate-Speech-Detection/master/IDHSD_RIO_unbalanced_713_2017.csv')\n",
        "\n",
        "# Show 5 first Row\n",
        "df.head()"
      ],
      "execution_count": 3,
      "outputs": [
        {
          "output_type": "execute_result",
          "data": {
            "text/html": [
              "<div>\n",
              "<style scoped>\n",
              "    .dataframe tbody tr th:only-of-type {\n",
              "        vertical-align: middle;\n",
              "    }\n",
              "\n",
              "    .dataframe tbody tr th {\n",
              "        vertical-align: top;\n",
              "    }\n",
              "\n",
              "    .dataframe thead th {\n",
              "        text-align: right;\n",
              "    }\n",
              "</style>\n",
              "<table border=\"1\" class=\"dataframe\">\n",
              "  <thead>\n",
              "    <tr style=\"text-align: right;\">\n",
              "      <th></th>\n",
              "      <th>Label</th>\n",
              "      <th>Tweet</th>\n",
              "    </tr>\n",
              "  </thead>\n",
              "  <tbody>\n",
              "    <tr>\n",
              "      <th>0</th>\n",
              "      <td>Non_HS</td>\n",
              "      <td>RT @spardaxyz: Fadli Zon Minta Mendagri Segera...</td>\n",
              "    </tr>\n",
              "    <tr>\n",
              "      <th>1</th>\n",
              "      <td>Non_HS</td>\n",
              "      <td>RT @baguscondromowo: Mereka terus melukai aksi...</td>\n",
              "    </tr>\n",
              "    <tr>\n",
              "      <th>2</th>\n",
              "      <td>Non_HS</td>\n",
              "      <td>Sylvi: bagaimana gurbernur melakukan kekerasan...</td>\n",
              "    </tr>\n",
              "    <tr>\n",
              "      <th>3</th>\n",
              "      <td>Non_HS</td>\n",
              "      <td>Ahmad Dhani Tak Puas Debat Pilkada, Masalah Ja...</td>\n",
              "    </tr>\n",
              "    <tr>\n",
              "      <th>4</th>\n",
              "      <td>Non_HS</td>\n",
              "      <td>RT @lisdaulay28: Waspada KTP palsu.....kawal P...</td>\n",
              "    </tr>\n",
              "  </tbody>\n",
              "</table>\n",
              "</div>"
            ],
            "text/plain": [
              "    Label                                              Tweet\n",
              "0  Non_HS  RT @spardaxyz: Fadli Zon Minta Mendagri Segera...\n",
              "1  Non_HS  RT @baguscondromowo: Mereka terus melukai aksi...\n",
              "2  Non_HS  Sylvi: bagaimana gurbernur melakukan kekerasan...\n",
              "3  Non_HS  Ahmad Dhani Tak Puas Debat Pilkada, Masalah Ja...\n",
              "4  Non_HS  RT @lisdaulay28: Waspada KTP palsu.....kawal P..."
            ]
          },
          "metadata": {
            "tags": []
          },
          "execution_count": 3
        }
      ]
    },
    {
      "cell_type": "markdown",
      "metadata": {
        "id": "Bol_c88MnI8M"
      },
      "source": [
        "### Menampilkan Informasi Data"
      ]
    },
    {
      "cell_type": "code",
      "metadata": {
        "colab": {
          "base_uri": "https://localhost:8080/"
        },
        "id": "wp5p6ACP09rE",
        "outputId": "921e7d65-9438-4405-ea36-467f62472c87"
      },
      "source": [
        "# Prints the Dataset Information\n",
        "df.info()"
      ],
      "execution_count": 4,
      "outputs": [
        {
          "output_type": "stream",
          "text": [
            "<class 'pandas.core.frame.DataFrame'>\n",
            "RangeIndex: 713 entries, 0 to 712\n",
            "Data columns (total 2 columns):\n",
            " #   Column  Non-Null Count  Dtype \n",
            "---  ------  --------------  ----- \n",
            " 0   Label   713 non-null    object\n",
            " 1   Tweet   713 non-null    object\n",
            "dtypes: object(2)\n",
            "memory usage: 11.3+ KB\n"
          ],
          "name": "stdout"
        }
      ]
    },
    {
      "cell_type": "markdown",
      "metadata": {
        "id": "TORiNQP3nOUm"
      },
      "source": [
        "Dari informasi di atas, diketahui bahwa terdapat 713 data dengan tipe data yaitu objek. Selain itu diketahui bahwa dataset tidak memiliki data yang kosong"
      ]
    },
    {
      "cell_type": "code",
      "metadata": {
        "colab": {
          "base_uri": "https://localhost:8080/",
          "height": 389
        },
        "id": "VDf75JkQMSap",
        "outputId": "d97d9549-2012-46df-b82b-908daa25478e"
      },
      "source": [
        "# Menghitung jumlah data pada atribut gender dan melihat perbandingannya\n",
        "print(df['Label'].value_counts())\n",
        "print('\\n')\n",
        "sns.countplot(x='Label', data=df)"
      ],
      "execution_count": 5,
      "outputs": [
        {
          "output_type": "stream",
          "text": [
            "Non_HS    453\n",
            "HS        260\n",
            "Name: Label, dtype: int64\n",
            "\n",
            "\n"
          ],
          "name": "stdout"
        },
        {
          "output_type": "execute_result",
          "data": {
            "text/plain": [
              "<matplotlib.axes._subplots.AxesSubplot at 0x7efd2f2a8cc0>"
            ]
          },
          "metadata": {
            "tags": []
          },
          "execution_count": 5
        },
        {
          "output_type": "display_data",
          "data": {
            "image/png": "[encoded data removed]",
            "text/plain": [
              "<Figure size 432x288 with 1 Axes>"
            ]
          },
          "metadata": {
            "tags": [],
            "needs_background": "light"
          }
        }
      ]
    },
    {
      "cell_type": "markdown",
      "metadata": {
        "id": "zDGs4GYKnsxH"
      },
      "source": [
        "Dari informasi di atas diketahui bahwa jumlah data dengan kelas HS berjumlah 260 dan kelas Non_HS berjumlah 453."
      ]
    },
    {
      "cell_type": "markdown",
      "metadata": {
        "id": "xIEYRLv-oMLE"
      },
      "source": [
        "### Text Preprocessing"
      ]
    },
    {
      "cell_type": "markdown",
      "metadata": {
        "id": "gruoCgncoN4z"
      },
      "source": [
        "Tujuan dari text preprocessing adalah untuk membuat text menjadi lebih ideal sebelum masuk ke proses klasifikasi."
      ]
    },
    {
      "cell_type": "markdown",
      "metadata": {
        "id": "eYv0iXwpo1Iv"
      },
      "source": [
        "#### Case Folding"
      ]
    },
    {
      "cell_type": "markdown",
      "metadata": {
        "id": "ymAeMhD9o8m9"
      },
      "source": [
        "Case Folding dibutuhkan dalam mengkonversi keseluruhan teks dalam dokumen menjadi suatu bentuk standar."
      ]
    },
    {
      "cell_type": "code",
      "metadata": {
        "id": "2k0lPhC5Mg7f"
      },
      "source": [
        "# Mengubah teks menjadi lowercase\n",
        "df['Case_Folding'] = df['Tweet'].str.lower()"
      ],
      "execution_count": 6,
      "outputs": []
    },
    {
      "cell_type": "code",
      "metadata": {
        "id": "Tv5Nm6lDs4ZR"
      },
      "source": [
        "# Menghapus angka\n",
        "def remove_number(tweet):\n",
        "  rem_num = re.sub(r\"\\d+\", \"\", tweet)\n",
        "  return rem_num\n",
        "\n",
        "# Menghapus tanda baca\n",
        "def remove_punctuation(tweet):\n",
        "  rem_punct  = tweet.translate(str.maketrans(\"\",\"\",string.punctuation))\n",
        "  return rem_punct\n",
        "\n",
        "# Menghapus whitepace (karakter kosong)\n",
        "def remove_whitespace(tweet):\n",
        "  rem_white = tweet.strip()\n",
        "  return rem_white\n",
        "\n",
        "# Menghapus tab, line baru, back slice\n",
        "def remove_tabline(tweet):\n",
        "  rem_tab = tweet.replace('\\\\t',\" \").replace('\\\\n',\" \").replace('\\\\u',\" \").replace('\\\\',\"\")\n",
        "  return rem_tab\n",
        "\n",
        "# Menghapus non ASCII (emoticon, dll)\n",
        "def remove_nonascii(tweet):\n",
        "  rem_nonascii = tweet.encode('ascii', 'replace').decode('ascii')\n",
        "  return rem_nonascii\n",
        "\n",
        "# Menghapus mention, link dan hastag\n",
        "def remove_mention(tweet):\n",
        "  rem_mt = ' '.join(re.sub(\"([@#][A-Za-z0-9]+)|(\\w+:\\/\\/\\S+)\",\" \", tweet).split())\n",
        "  return rem_mt\n",
        "\n",
        "# Menghapus URL\n",
        "def remove_url(tweet):\n",
        "  rem_url = tweet.replace(\"http://\", \" \").replace(\"https://\", \" \")\n",
        "  return rem_url\n",
        "  \n",
        "# Menghapus RT\n",
        "def remove_RT(tweet):\n",
        "  rem_RT = re.sub(r'^rt[\\s]+', '', tweet)\n",
        "  return rem_RT\n",
        "\n"
      ],
      "execution_count": 7,
      "outputs": []
    },
    {
      "cell_type": "code",
      "metadata": {
        "id": "4BjvCKrrxnUC"
      },
      "source": [
        "# Memanggil seluruh function di atas\n",
        "df['Case_Folding'] = df['Case_Folding'].apply(remove_tabline)       # function remove_tabline\n",
        "df['Case_Folding'] = df['Case_Folding'].apply(remove_nonascii)      # function remove_nonascii\n",
        "df['Case_Folding'] = df['Case_Folding'].apply(remove_mention)       # function remove_mention\n",
        "df['Case_Folding'] = df['Case_Folding'].apply(remove_url)           # function remove_url\n",
        "df['Case_Folding'] = df['Case_Folding'].apply(remove_number)        # function remove_number\n",
        "df['Case_Folding'] = df['Case_Folding'].apply(remove_punctuation)   # function remove_punctuation\n",
        "df['Case_Folding'] = df['Case_Folding'].apply(remove_whitespace)    # function remove_whitespace\n",
        "df['Case_Folding'] = df['Case_Folding'].apply(remove_RT)            # function remove_RT"
      ],
      "execution_count": null,
      "outputs": []
    },
    {
      "cell_type": "code",
      "metadata": {
        "colab": {
          "base_uri": "https://localhost:8080/",
          "height": 407
        },
        "id": "o0-OG53TxpdL",
        "outputId": "3bf34ed0-48c1-4fd4-f2c2-08b0d972688f"
      },
      "source": [
        "df"
      ],
      "execution_count": 9,
      "outputs": [
        {
          "output_type": "execute_result",
          "data": {
            "text/html": [
              "<div>\n",
              "<style scoped>\n",
              "    .dataframe tbody tr th:only-of-type {\n",
              "        vertical-align: middle;\n",
              "    }\n",
              "\n",
              "    .dataframe tbody tr th {\n",
              "        vertical-align: top;\n",
              "    }\n",
              "\n",
              "    .dataframe thead th {\n",
              "        text-align: right;\n",
              "    }\n",
              "</style>\n",
              "<table border=\"1\" class=\"dataframe\">\n",
              "  <thead>\n",
              "    <tr style=\"text-align: right;\">\n",
              "      <th></th>\n",
              "      <th>Label</th>\n",
              "      <th>Tweet</th>\n",
              "      <th>Case_Folding</th>\n",
              "    </tr>\n",
              "  </thead>\n",
              "  <tbody>\n",
              "    <tr>\n",
              "      <th>0</th>\n",
              "      <td>Non_HS</td>\n",
              "      <td>RT @spardaxyz: Fadli Zon Minta Mendagri Segera...</td>\n",
              "      <td>fadli zon minta mendagri segera menonaktifkan ...</td>\n",
              "    </tr>\n",
              "    <tr>\n",
              "      <th>1</th>\n",
              "      <td>Non_HS</td>\n",
              "      <td>RT @baguscondromowo: Mereka terus melukai aksi...</td>\n",
              "      <td>mereka terus melukai aksi dalam rangka memenja...</td>\n",
              "    </tr>\n",
              "    <tr>\n",
              "      <th>2</th>\n",
              "      <td>Non_HS</td>\n",
              "      <td>Sylvi: bagaimana gurbernur melakukan kekerasan...</td>\n",
              "      <td>sylvi bagaimana gurbernur melakukan kekerasan ...</td>\n",
              "    </tr>\n",
              "    <tr>\n",
              "      <th>3</th>\n",
              "      <td>Non_HS</td>\n",
              "      <td>Ahmad Dhani Tak Puas Debat Pilkada, Masalah Ja...</td>\n",
              "      <td>ahmad dhani tak puas debat pilkada masalah jal...</td>\n",
              "    </tr>\n",
              "    <tr>\n",
              "      <th>4</th>\n",
              "      <td>Non_HS</td>\n",
              "      <td>RT @lisdaulay28: Waspada KTP palsu.....kawal P...</td>\n",
              "      <td>waspada ktp palsukawal pilkada</td>\n",
              "    </tr>\n",
              "    <tr>\n",
              "      <th>...</th>\n",
              "      <td>...</td>\n",
              "      <td>...</td>\n",
              "      <td>...</td>\n",
              "    </tr>\n",
              "    <tr>\n",
              "      <th>708</th>\n",
              "      <td>HS</td>\n",
              "      <td>Muka Si BABi Ahok Tuh Yg Mirip SERBET Lantai.....</td>\n",
              "      <td>muka si babi ahok tuh yg mirip serbet lantai btp</td>\n",
              "    </tr>\n",
              "    <tr>\n",
              "      <th>709</th>\n",
              "      <td>HS</td>\n",
              "      <td>Betul bang hancurkan merka bang, musnahkan chi...</td>\n",
              "      <td>betul bang hancurkan merka bang musnahkan chin...</td>\n",
              "    </tr>\n",
              "    <tr>\n",
              "      <th>710</th>\n",
              "      <td>HS</td>\n",
              "      <td>Sapa Yg bilang Ahok anti korupsi!?, klo grombo...</td>\n",
              "      <td>sapa yg bilang ahok anti korupsi klo grombolan...</td>\n",
              "    </tr>\n",
              "    <tr>\n",
              "      <th>711</th>\n",
              "      <td>HS</td>\n",
              "      <td>Gw juga ngimpi SENTILIN BIJI BABI AHOK, pcetar...</td>\n",
              "      <td>gw juga ngimpi sentilin biji babi ahok pcetar ...</td>\n",
              "    </tr>\n",
              "    <tr>\n",
              "      <th>712</th>\n",
              "      <td>HS</td>\n",
              "      <td>Mudah2an gw ketemu sama SI BABI IWAN BOPENG DI...</td>\n",
              "      <td>mudahan gw ketemu sama si babi iwan bopeng di ...</td>\n",
              "    </tr>\n",
              "  </tbody>\n",
              "</table>\n",
              "<p>713 rows × 3 columns</p>\n",
              "</div>"
            ],
            "text/plain": [
              "      Label  ...                                       Case_Folding\n",
              "0    Non_HS  ...  fadli zon minta mendagri segera menonaktifkan ...\n",
              "1    Non_HS  ...  mereka terus melukai aksi dalam rangka memenja...\n",
              "2    Non_HS  ...  sylvi bagaimana gurbernur melakukan kekerasan ...\n",
              "3    Non_HS  ...  ahmad dhani tak puas debat pilkada masalah jal...\n",
              "4    Non_HS  ...                     waspada ktp palsukawal pilkada\n",
              "..      ...  ...                                                ...\n",
              "708      HS  ...   muka si babi ahok tuh yg mirip serbet lantai btp\n",
              "709      HS  ...  betul bang hancurkan merka bang musnahkan chin...\n",
              "710      HS  ...  sapa yg bilang ahok anti korupsi klo grombolan...\n",
              "711      HS  ...  gw juga ngimpi sentilin biji babi ahok pcetar ...\n",
              "712      HS  ...  mudahan gw ketemu sama si babi iwan bopeng di ...\n",
              "\n",
              "[713 rows x 3 columns]"
            ]
          },
          "metadata": {
            "tags": []
          },
          "execution_count": 9
        }
      ]
    },
    {
      "cell_type": "markdown",
      "metadata": {
        "id": "S4lJ2CvUpqVX"
      },
      "source": [
        "#### Tokenization"
      ]
    },
    {
      "cell_type": "markdown",
      "metadata": {
        "id": "dMZNo3DuqXhM"
      },
      "source": [
        "Tokenizing adalah tahap pemotongan string input berdasarkan tiap kata yang menyusunnya. Secara garis besar memecah sekumpulan karakter dalam suatu teks ke dalam satuan kata."
      ]
    },
    {
      "cell_type": "code",
      "metadata": {
        "id": "tjmL6krQ0JI0"
      },
      "source": [
        "# Membuat function tokenization\n",
        "def tokenization(tweet):\n",
        "  tokens = nltk.tokenize.word_tokenize(tweet)\n",
        "  return tokens"
      ],
      "execution_count": 10,
      "outputs": []
    },
    {
      "cell_type": "code",
      "metadata": {
        "id": "sNY1GMUJ01NR"
      },
      "source": [
        "# Memanggil function tokenization\n",
        "df['Tokenization'] = df['Case_Folding'].apply(tokenization)"
      ],
      "execution_count": 11,
      "outputs": []
    },
    {
      "cell_type": "code",
      "metadata": {
        "colab": {
          "base_uri": "https://localhost:8080/",
          "height": 476
        },
        "id": "qqMGEOuX1ZEQ",
        "outputId": "1709db3d-7077-43b6-fa20-c2d1a98609a3"
      },
      "source": [
        "df"
      ],
      "execution_count": 12,
      "outputs": [
        {
          "output_type": "execute_result",
          "data": {
            "text/html": [
              "<div>\n",
              "<style scoped>\n",
              "    .dataframe tbody tr th:only-of-type {\n",
              "        vertical-align: middle;\n",
              "    }\n",
              "\n",
              "    .dataframe tbody tr th {\n",
              "        vertical-align: top;\n",
              "    }\n",
              "\n",
              "    .dataframe thead th {\n",
              "        text-align: right;\n",
              "    }\n",
              "</style>\n",
              "<table border=\"1\" class=\"dataframe\">\n",
              "  <thead>\n",
              "    <tr style=\"text-align: right;\">\n",
              "      <th></th>\n",
              "      <th>Label</th>\n",
              "      <th>Tweet</th>\n",
              "      <th>Case_Folding</th>\n",
              "      <th>Tokenization</th>\n",
              "    </tr>\n",
              "  </thead>\n",
              "  <tbody>\n",
              "    <tr>\n",
              "      <th>0</th>\n",
              "      <td>Non_HS</td>\n",
              "      <td>RT @spardaxyz: Fadli Zon Minta Mendagri Segera...</td>\n",
              "      <td>fadli zon minta mendagri segera menonaktifkan ...</td>\n",
              "      <td>[fadli, zon, minta, mendagri, segera, menonakt...</td>\n",
              "    </tr>\n",
              "    <tr>\n",
              "      <th>1</th>\n",
              "      <td>Non_HS</td>\n",
              "      <td>RT @baguscondromowo: Mereka terus melukai aksi...</td>\n",
              "      <td>mereka terus melukai aksi dalam rangka memenja...</td>\n",
              "      <td>[mereka, terus, melukai, aksi, dalam, rangka, ...</td>\n",
              "    </tr>\n",
              "    <tr>\n",
              "      <th>2</th>\n",
              "      <td>Non_HS</td>\n",
              "      <td>Sylvi: bagaimana gurbernur melakukan kekerasan...</td>\n",
              "      <td>sylvi bagaimana gurbernur melakukan kekerasan ...</td>\n",
              "      <td>[sylvi, bagaimana, gurbernur, melakukan, keker...</td>\n",
              "    </tr>\n",
              "    <tr>\n",
              "      <th>3</th>\n",
              "      <td>Non_HS</td>\n",
              "      <td>Ahmad Dhani Tak Puas Debat Pilkada, Masalah Ja...</td>\n",
              "      <td>ahmad dhani tak puas debat pilkada masalah jal...</td>\n",
              "      <td>[ahmad, dhani, tak, puas, debat, pilkada, masa...</td>\n",
              "    </tr>\n",
              "    <tr>\n",
              "      <th>4</th>\n",
              "      <td>Non_HS</td>\n",
              "      <td>RT @lisdaulay28: Waspada KTP palsu.....kawal P...</td>\n",
              "      <td>waspada ktp palsukawal pilkada</td>\n",
              "      <td>[waspada, ktp, palsukawal, pilkada]</td>\n",
              "    </tr>\n",
              "    <tr>\n",
              "      <th>...</th>\n",
              "      <td>...</td>\n",
              "      <td>...</td>\n",
              "      <td>...</td>\n",
              "      <td>...</td>\n",
              "    </tr>\n",
              "    <tr>\n",
              "      <th>708</th>\n",
              "      <td>HS</td>\n",
              "      <td>Muka Si BABi Ahok Tuh Yg Mirip SERBET Lantai.....</td>\n",
              "      <td>muka si babi ahok tuh yg mirip serbet lantai btp</td>\n",
              "      <td>[muka, si, babi, ahok, tuh, yg, mirip, serbet,...</td>\n",
              "    </tr>\n",
              "    <tr>\n",
              "      <th>709</th>\n",
              "      <td>HS</td>\n",
              "      <td>Betul bang hancurkan merka bang, musnahkan chi...</td>\n",
              "      <td>betul bang hancurkan merka bang musnahkan chin...</td>\n",
              "      <td>[betul, bang, hancurkan, merka, bang, musnahka...</td>\n",
              "    </tr>\n",
              "    <tr>\n",
              "      <th>710</th>\n",
              "      <td>HS</td>\n",
              "      <td>Sapa Yg bilang Ahok anti korupsi!?, klo grombo...</td>\n",
              "      <td>sapa yg bilang ahok anti korupsi klo grombolan...</td>\n",
              "      <td>[sapa, yg, bilang, ahok, anti, korupsi, klo, g...</td>\n",
              "    </tr>\n",
              "    <tr>\n",
              "      <th>711</th>\n",
              "      <td>HS</td>\n",
              "      <td>Gw juga ngimpi SENTILIN BIJI BABI AHOK, pcetar...</td>\n",
              "      <td>gw juga ngimpi sentilin biji babi ahok pcetar ...</td>\n",
              "      <td>[gw, juga, ngimpi, sentilin, biji, babi, ahok,...</td>\n",
              "    </tr>\n",
              "    <tr>\n",
              "      <th>712</th>\n",
              "      <td>HS</td>\n",
              "      <td>Mudah2an gw ketemu sama SI BABI IWAN BOPENG DI...</td>\n",
              "      <td>mudahan gw ketemu sama si babi iwan bopeng di ...</td>\n",
              "      <td>[mudahan, gw, ketemu, sama, si, babi, iwan, bo...</td>\n",
              "    </tr>\n",
              "  </tbody>\n",
              "</table>\n",
              "<p>713 rows × 4 columns</p>\n",
              "</div>"
            ],
            "text/plain": [
              "      Label  ...                                       Tokenization\n",
              "0    Non_HS  ...  [fadli, zon, minta, mendagri, segera, menonakt...\n",
              "1    Non_HS  ...  [mereka, terus, melukai, aksi, dalam, rangka, ...\n",
              "2    Non_HS  ...  [sylvi, bagaimana, gurbernur, melakukan, keker...\n",
              "3    Non_HS  ...  [ahmad, dhani, tak, puas, debat, pilkada, masa...\n",
              "4    Non_HS  ...                [waspada, ktp, palsukawal, pilkada]\n",
              "..      ...  ...                                                ...\n",
              "708      HS  ...  [muka, si, babi, ahok, tuh, yg, mirip, serbet,...\n",
              "709      HS  ...  [betul, bang, hancurkan, merka, bang, musnahka...\n",
              "710      HS  ...  [sapa, yg, bilang, ahok, anti, korupsi, klo, g...\n",
              "711      HS  ...  [gw, juga, ngimpi, sentilin, biji, babi, ahok,...\n",
              "712      HS  ...  [mudahan, gw, ketemu, sama, si, babi, iwan, bo...\n",
              "\n",
              "[713 rows x 4 columns]"
            ]
          },
          "metadata": {
            "tags": []
          },
          "execution_count": 12
        }
      ]
    },
    {
      "cell_type": "markdown",
      "metadata": {
        "id": "Le7gsAlm1XtU"
      },
      "source": [
        "#### Filtering (Stopword Removal)"
      ]
    },
    {
      "cell_type": "markdown",
      "metadata": {
        "id": "TuIU9NZ73cQh"
      },
      "source": [
        "Filtering adalah tahap mengambil kata-kata penting dari hasil token. Bisa menggunakan algoritma stoplist (membuang kata kurang penting) atau wordlist (menyimpan kata penting). Stoplist/stopword adalah kata-kata yang tidak deskriptif yang dapat dibuang dalam pendekatan bag-of-words."
      ]
    },
    {
      "cell_type": "code",
      "metadata": {
        "id": "G9CBf4Ui6Dq3"
      },
      "source": [
        "# Mmebuat function stopword\n",
        "listStopword =  stopwords.words('indonesian')\n",
        "listStopword.extend(['gw','yg','klo','dg','jg','nih','si','aja','yng','y','tuh','cm','td','sm','lo','loh','jga'])\n",
        "def stopw(text):\n",
        "  removed = []\n",
        "  for t in text:\n",
        "      if t not in listStopword:\n",
        "          removed.append(t)\n",
        "  return removed"
      ],
      "execution_count": 13,
      "outputs": []
    },
    {
      "cell_type": "code",
      "metadata": {
        "id": "_yUSjsTu7l37"
      },
      "source": [
        "# Memanggil funtion stopword\n",
        "df['Stopword'] = df['Tokenization'].apply(stopw)"
      ],
      "execution_count": 14,
      "outputs": []
    },
    {
      "cell_type": "code",
      "metadata": {
        "colab": {
          "base_uri": "https://localhost:8080/",
          "height": 580
        },
        "id": "3JpB22f67vvE",
        "outputId": "7ff84514-a2c7-4524-81fb-a0c7f1dd5527"
      },
      "source": [
        "df"
      ],
      "execution_count": 15,
      "outputs": [
        {
          "output_type": "execute_result",
          "data": {
            "text/html": [
              "<div>\n",
              "<style scoped>\n",
              "    .dataframe tbody tr th:only-of-type {\n",
              "        vertical-align: middle;\n",
              "    }\n",
              "\n",
              "    .dataframe tbody tr th {\n",
              "        vertical-align: top;\n",
              "    }\n",
              "\n",
              "    .dataframe thead th {\n",
              "        text-align: right;\n",
              "    }\n",
              "</style>\n",
              "<table border=\"1\" class=\"dataframe\">\n",
              "  <thead>\n",
              "    <tr style=\"text-align: right;\">\n",
              "      <th></th>\n",
              "      <th>Label</th>\n",
              "      <th>Tweet</th>\n",
              "      <th>Case_Folding</th>\n",
              "      <th>Tokenization</th>\n",
              "      <th>Stopword</th>\n",
              "    </tr>\n",
              "  </thead>\n",
              "  <tbody>\n",
              "    <tr>\n",
              "      <th>0</th>\n",
              "      <td>Non_HS</td>\n",
              "      <td>RT @spardaxyz: Fadli Zon Minta Mendagri Segera...</td>\n",
              "      <td>fadli zon minta mendagri segera menonaktifkan ...</td>\n",
              "      <td>[fadli, zon, minta, mendagri, segera, menonakt...</td>\n",
              "      <td>[fadli, zon, mendagri, menonaktifkan, ahok, gu...</td>\n",
              "    </tr>\n",
              "    <tr>\n",
              "      <th>1</th>\n",
              "      <td>Non_HS</td>\n",
              "      <td>RT @baguscondromowo: Mereka terus melukai aksi...</td>\n",
              "      <td>mereka terus melukai aksi dalam rangka memenja...</td>\n",
              "      <td>[mereka, terus, melukai, aksi, dalam, rangka, ...</td>\n",
              "      <td>[melukai, aksi, rangka, memenjarakan, ahok, ah...</td>\n",
              "    </tr>\n",
              "    <tr>\n",
              "      <th>2</th>\n",
              "      <td>Non_HS</td>\n",
              "      <td>Sylvi: bagaimana gurbernur melakukan kekerasan...</td>\n",
              "      <td>sylvi bagaimana gurbernur melakukan kekerasan ...</td>\n",
              "      <td>[sylvi, bagaimana, gurbernur, melakukan, keker...</td>\n",
              "      <td>[sylvi, gurbernur, kekerasan, perempuan, bukti...</td>\n",
              "    </tr>\n",
              "    <tr>\n",
              "      <th>3</th>\n",
              "      <td>Non_HS</td>\n",
              "      <td>Ahmad Dhani Tak Puas Debat Pilkada, Masalah Ja...</td>\n",
              "      <td>ahmad dhani tak puas debat pilkada masalah jal...</td>\n",
              "      <td>[ahmad, dhani, tak, puas, debat, pilkada, masa...</td>\n",
              "      <td>[ahmad, dhani, puas, debat, pilkada, jalan, be...</td>\n",
              "    </tr>\n",
              "    <tr>\n",
              "      <th>4</th>\n",
              "      <td>Non_HS</td>\n",
              "      <td>RT @lisdaulay28: Waspada KTP palsu.....kawal P...</td>\n",
              "      <td>waspada ktp palsukawal pilkada</td>\n",
              "      <td>[waspada, ktp, palsukawal, pilkada]</td>\n",
              "      <td>[waspada, ktp, palsukawal, pilkada]</td>\n",
              "    </tr>\n",
              "    <tr>\n",
              "      <th>...</th>\n",
              "      <td>...</td>\n",
              "      <td>...</td>\n",
              "      <td>...</td>\n",
              "      <td>...</td>\n",
              "      <td>...</td>\n",
              "    </tr>\n",
              "    <tr>\n",
              "      <th>708</th>\n",
              "      <td>HS</td>\n",
              "      <td>Muka Si BABi Ahok Tuh Yg Mirip SERBET Lantai.....</td>\n",
              "      <td>muka si babi ahok tuh yg mirip serbet lantai btp</td>\n",
              "      <td>[muka, si, babi, ahok, tuh, yg, mirip, serbet,...</td>\n",
              "      <td>[muka, babi, ahok, serbet, lantai, btp]</td>\n",
              "    </tr>\n",
              "    <tr>\n",
              "      <th>709</th>\n",
              "      <td>HS</td>\n",
              "      <td>Betul bang hancurkan merka bang, musnahkan chi...</td>\n",
              "      <td>betul bang hancurkan merka bang musnahkan chin...</td>\n",
              "      <td>[betul, bang, hancurkan, merka, bang, musnahka...</td>\n",
              "      <td>[bang, hancurkan, merka, bang, musnahkan, chin...</td>\n",
              "    </tr>\n",
              "    <tr>\n",
              "      <th>710</th>\n",
              "      <td>HS</td>\n",
              "      <td>Sapa Yg bilang Ahok anti korupsi!?, klo grombo...</td>\n",
              "      <td>sapa yg bilang ahok anti korupsi klo grombolan...</td>\n",
              "      <td>[sapa, yg, bilang, ahok, anti, korupsi, klo, g...</td>\n",
              "      <td>[sapa, bilang, ahok, anti, korupsi, grombolann...</td>\n",
              "    </tr>\n",
              "    <tr>\n",
              "      <th>711</th>\n",
              "      <td>HS</td>\n",
              "      <td>Gw juga ngimpi SENTILIN BIJI BABI AHOK, pcetar...</td>\n",
              "      <td>gw juga ngimpi sentilin biji babi ahok pcetar ...</td>\n",
              "      <td>[gw, juga, ngimpi, sentilin, biji, babi, ahok,...</td>\n",
              "      <td>[ngimpi, sentilin, biji, babi, ahok, pcetar, p...</td>\n",
              "    </tr>\n",
              "    <tr>\n",
              "      <th>712</th>\n",
              "      <td>HS</td>\n",
              "      <td>Mudah2an gw ketemu sama SI BABI IWAN BOPENG DI...</td>\n",
              "      <td>mudahan gw ketemu sama si babi iwan bopeng di ...</td>\n",
              "      <td>[mudahan, gw, ketemu, sama, si, babi, iwan, bo...</td>\n",
              "      <td>[mudahan, ketemu, babi, iwan, bopeng, tps, nya...</td>\n",
              "    </tr>\n",
              "  </tbody>\n",
              "</table>\n",
              "<p>713 rows × 5 columns</p>\n",
              "</div>"
            ],
            "text/plain": [
              "      Label  ...                                           Stopword\n",
              "0    Non_HS  ...  [fadli, zon, mendagri, menonaktifkan, ahok, gu...\n",
              "1    Non_HS  ...  [melukai, aksi, rangka, memenjarakan, ahok, ah...\n",
              "2    Non_HS  ...  [sylvi, gurbernur, kekerasan, perempuan, bukti...\n",
              "3    Non_HS  ...  [ahmad, dhani, puas, debat, pilkada, jalan, be...\n",
              "4    Non_HS  ...                [waspada, ktp, palsukawal, pilkada]\n",
              "..      ...  ...                                                ...\n",
              "708      HS  ...            [muka, babi, ahok, serbet, lantai, btp]\n",
              "709      HS  ...  [bang, hancurkan, merka, bang, musnahkan, chin...\n",
              "710      HS  ...  [sapa, bilang, ahok, anti, korupsi, grombolann...\n",
              "711      HS  ...  [ngimpi, sentilin, biji, babi, ahok, pcetar, p...\n",
              "712      HS  ...  [mudahan, ketemu, babi, iwan, bopeng, tps, nya...\n",
              "\n",
              "[713 rows x 5 columns]"
            ]
          },
          "metadata": {
            "tags": []
          },
          "execution_count": 15
        }
      ]
    },
    {
      "cell_type": "markdown",
      "metadata": {
        "id": "oWZMmJCD7urB"
      },
      "source": [
        "#### Stemming"
      ]
    },
    {
      "cell_type": "markdown",
      "metadata": {
        "id": "AzilMXeq6Cwr"
      },
      "source": [
        "Stemming adalah proses menghilangkan infleksi kata ke bentuk dasarnya, namun bentuk dasar tersebut tidak berarti sama dengan akar kata (root word)."
      ]
    },
    {
      "cell_type": "code",
      "metadata": {
        "id": "SJkcu8Vn_2l9"
      },
      "source": [
        "factory = StemmerFactory()\n",
        "stemmer = factory.create_stemmer()\n",
        "df['Stemming'] = df['Stopword'].apply(lambda x: [stemmer.stem(y) for y in x])"
      ],
      "execution_count": 16,
      "outputs": []
    },
    {
      "cell_type": "code",
      "metadata": {
        "colab": {
          "base_uri": "https://localhost:8080/",
          "height": 580
        },
        "id": "RQtkygoMEm4j",
        "outputId": "cfd0f63a-48bb-446f-9b65-f4b007c0d604"
      },
      "source": [
        "df"
      ],
      "execution_count": 17,
      "outputs": [
        {
          "output_type": "execute_result",
          "data": {
            "text/html": [
              "<div>\n",
              "<style scoped>\n",
              "    .dataframe tbody tr th:only-of-type {\n",
              "        vertical-align: middle;\n",
              "    }\n",
              "\n",
              "    .dataframe tbody tr th {\n",
              "        vertical-align: top;\n",
              "    }\n",
              "\n",
              "    .dataframe thead th {\n",
              "        text-align: right;\n",
              "    }\n",
              "</style>\n",
              "<table border=\"1\" class=\"dataframe\">\n",
              "  <thead>\n",
              "    <tr style=\"text-align: right;\">\n",
              "      <th></th>\n",
              "      <th>Label</th>\n",
              "      <th>Tweet</th>\n",
              "      <th>Case_Folding</th>\n",
              "      <th>Tokenization</th>\n",
              "      <th>Stopword</th>\n",
              "      <th>Stemming</th>\n",
              "    </tr>\n",
              "  </thead>\n",
              "  <tbody>\n",
              "    <tr>\n",
              "      <th>0</th>\n",
              "      <td>Non_HS</td>\n",
              "      <td>RT @spardaxyz: Fadli Zon Minta Mendagri Segera...</td>\n",
              "      <td>fadli zon minta mendagri segera menonaktifkan ...</td>\n",
              "      <td>[fadli, zon, minta, mendagri, segera, menonakt...</td>\n",
              "      <td>[fadli, zon, mendagri, menonaktifkan, ahok, gu...</td>\n",
              "      <td>[fadli, zon, mendagri, nonaktif, ahok, gubernu...</td>\n",
              "    </tr>\n",
              "    <tr>\n",
              "      <th>1</th>\n",
              "      <td>Non_HS</td>\n",
              "      <td>RT @baguscondromowo: Mereka terus melukai aksi...</td>\n",
              "      <td>mereka terus melukai aksi dalam rangka memenja...</td>\n",
              "      <td>[mereka, terus, melukai, aksi, dalam, rangka, ...</td>\n",
              "      <td>[melukai, aksi, rangka, memenjarakan, ahok, ah...</td>\n",
              "      <td>[luka, aksi, rangka, penjara, ahok, ahok, gaga...</td>\n",
              "    </tr>\n",
              "    <tr>\n",
              "      <th>2</th>\n",
              "      <td>Non_HS</td>\n",
              "      <td>Sylvi: bagaimana gurbernur melakukan kekerasan...</td>\n",
              "      <td>sylvi bagaimana gurbernur melakukan kekerasan ...</td>\n",
              "      <td>[sylvi, bagaimana, gurbernur, melakukan, keker...</td>\n",
              "      <td>[sylvi, gurbernur, kekerasan, perempuan, bukti...</td>\n",
              "      <td>[sylvi, gurbernur, keras, perempuan, bukti, fo...</td>\n",
              "    </tr>\n",
              "    <tr>\n",
              "      <th>3</th>\n",
              "      <td>Non_HS</td>\n",
              "      <td>Ahmad Dhani Tak Puas Debat Pilkada, Masalah Ja...</td>\n",
              "      <td>ahmad dhani tak puas debat pilkada masalah jal...</td>\n",
              "      <td>[ahmad, dhani, tak, puas, debat, pilkada, masa...</td>\n",
              "      <td>[ahmad, dhani, puas, debat, pilkada, jalan, be...</td>\n",
              "      <td>[ahmad, dhani, puas, debat, pilkada, jalan, be...</td>\n",
              "    </tr>\n",
              "    <tr>\n",
              "      <th>4</th>\n",
              "      <td>Non_HS</td>\n",
              "      <td>RT @lisdaulay28: Waspada KTP palsu.....kawal P...</td>\n",
              "      <td>waspada ktp palsukawal pilkada</td>\n",
              "      <td>[waspada, ktp, palsukawal, pilkada]</td>\n",
              "      <td>[waspada, ktp, palsukawal, pilkada]</td>\n",
              "      <td>[waspada, ktp, palsukawal, pilkada]</td>\n",
              "    </tr>\n",
              "    <tr>\n",
              "      <th>...</th>\n",
              "      <td>...</td>\n",
              "      <td>...</td>\n",
              "      <td>...</td>\n",
              "      <td>...</td>\n",
              "      <td>...</td>\n",
              "      <td>...</td>\n",
              "    </tr>\n",
              "    <tr>\n",
              "      <th>708</th>\n",
              "      <td>HS</td>\n",
              "      <td>Muka Si BABi Ahok Tuh Yg Mirip SERBET Lantai.....</td>\n",
              "      <td>muka si babi ahok tuh yg mirip serbet lantai btp</td>\n",
              "      <td>[muka, si, babi, ahok, tuh, yg, mirip, serbet,...</td>\n",
              "      <td>[muka, babi, ahok, serbet, lantai, btp]</td>\n",
              "      <td>[muka, babi, ahok, serbet, lantai, btp]</td>\n",
              "    </tr>\n",
              "    <tr>\n",
              "      <th>709</th>\n",
              "      <td>HS</td>\n",
              "      <td>Betul bang hancurkan merka bang, musnahkan chi...</td>\n",
              "      <td>betul bang hancurkan merka bang musnahkan chin...</td>\n",
              "      <td>[betul, bang, hancurkan, merka, bang, musnahka...</td>\n",
              "      <td>[bang, hancurkan, merka, bang, musnahkan, chin...</td>\n",
              "      <td>[bang, hancur, merka, bang, musnah, china, bab...</td>\n",
              "    </tr>\n",
              "    <tr>\n",
              "      <th>710</th>\n",
              "      <td>HS</td>\n",
              "      <td>Sapa Yg bilang Ahok anti korupsi!?, klo grombo...</td>\n",
              "      <td>sapa yg bilang ahok anti korupsi klo grombolan...</td>\n",
              "      <td>[sapa, yg, bilang, ahok, anti, korupsi, klo, g...</td>\n",
              "      <td>[sapa, bilang, ahok, anti, korupsi, grombolann...</td>\n",
              "      <td>[sapa, bilang, ahok, anti, korupsi, grombolann...</td>\n",
              "    </tr>\n",
              "    <tr>\n",
              "      <th>711</th>\n",
              "      <td>HS</td>\n",
              "      <td>Gw juga ngimpi SENTILIN BIJI BABI AHOK, pcetar...</td>\n",
              "      <td>gw juga ngimpi sentilin biji babi ahok pcetar ...</td>\n",
              "      <td>[gw, juga, ngimpi, sentilin, biji, babi, ahok,...</td>\n",
              "      <td>[ngimpi, sentilin, biji, babi, ahok, pcetar, p...</td>\n",
              "      <td>[ngimpi, sentilin, biji, babi, ahok, pcetar, p...</td>\n",
              "    </tr>\n",
              "    <tr>\n",
              "      <th>712</th>\n",
              "      <td>HS</td>\n",
              "      <td>Mudah2an gw ketemu sama SI BABI IWAN BOPENG DI...</td>\n",
              "      <td>mudahan gw ketemu sama si babi iwan bopeng di ...</td>\n",
              "      <td>[mudahan, gw, ketemu, sama, si, babi, iwan, bo...</td>\n",
              "      <td>[mudahan, ketemu, babi, iwan, bopeng, tps, nya...</td>\n",
              "      <td>[mudah, ketemu, babi, iwan, bopeng, tps, nya, ...</td>\n",
              "    </tr>\n",
              "  </tbody>\n",
              "</table>\n",
              "<p>713 rows × 6 columns</p>\n",
              "</div>"
            ],
            "text/plain": [
              "      Label  ...                                           Stemming\n",
              "0    Non_HS  ...  [fadli, zon, mendagri, nonaktif, ahok, gubernu...\n",
              "1    Non_HS  ...  [luka, aksi, rangka, penjara, ahok, ahok, gaga...\n",
              "2    Non_HS  ...  [sylvi, gurbernur, keras, perempuan, bukti, fo...\n",
              "3    Non_HS  ...  [ahmad, dhani, puas, debat, pilkada, jalan, be...\n",
              "4    Non_HS  ...                [waspada, ktp, palsukawal, pilkada]\n",
              "..      ...  ...                                                ...\n",
              "708      HS  ...            [muka, babi, ahok, serbet, lantai, btp]\n",
              "709      HS  ...  [bang, hancur, merka, bang, musnah, china, bab...\n",
              "710      HS  ...  [sapa, bilang, ahok, anti, korupsi, grombolann...\n",
              "711      HS  ...  [ngimpi, sentilin, biji, babi, ahok, pcetar, p...\n",
              "712      HS  ...  [mudah, ketemu, babi, iwan, bopeng, tps, nya, ...\n",
              "\n",
              "[713 rows x 6 columns]"
            ]
          },
          "metadata": {
            "tags": []
          },
          "execution_count": 17
        }
      ]
    },
    {
      "cell_type": "markdown",
      "metadata": {
        "id": "gMl-lm4HGKrR"
      },
      "source": [
        "### Memilih Fitur dan Target"
      ]
    },
    {
      "cell_type": "markdown",
      "metadata": {
        "id": "dxTixoVpHD9M"
      },
      "source": [
        "Melakukan drop pada atribut Tweet, Case_Folding, Tokenization, dan Stopword karena hasil akhir dari text preprocessing adalah stemming (sudah mencakup preprocessing sebelumnya)."
      ]
    },
    {
      "cell_type": "code",
      "metadata": {
        "id": "hld9CLIRGmm8"
      },
      "source": [
        "df_feat = df.drop(['Tweet','Case_Folding','Tokenization','Stopword'], axis=1)"
      ],
      "execution_count": 18,
      "outputs": []
    },
    {
      "cell_type": "code",
      "metadata": {
        "colab": {
          "base_uri": "https://localhost:8080/",
          "height": 407
        },
        "id": "35C_QxetG8-I",
        "outputId": "3d06a5a7-bf8d-41a7-eeb4-1fe26597b1f5"
      },
      "source": [
        "df_feat"
      ],
      "execution_count": 19,
      "outputs": [
        {
          "output_type": "execute_result",
          "data": {
            "text/html": [
              "<div>\n",
              "<style scoped>\n",
              "    .dataframe tbody tr th:only-of-type {\n",
              "        vertical-align: middle;\n",
              "    }\n",
              "\n",
              "    .dataframe tbody tr th {\n",
              "        vertical-align: top;\n",
              "    }\n",
              "\n",
              "    .dataframe thead th {\n",
              "        text-align: right;\n",
              "    }\n",
              "</style>\n",
              "<table border=\"1\" class=\"dataframe\">\n",
              "  <thead>\n",
              "    <tr style=\"text-align: right;\">\n",
              "      <th></th>\n",
              "      <th>Label</th>\n",
              "      <th>Stemming</th>\n",
              "    </tr>\n",
              "  </thead>\n",
              "  <tbody>\n",
              "    <tr>\n",
              "      <th>0</th>\n",
              "      <td>Non_HS</td>\n",
              "      <td>[fadli, zon, mendagri, nonaktif, ahok, gubernu...</td>\n",
              "    </tr>\n",
              "    <tr>\n",
              "      <th>1</th>\n",
              "      <td>Non_HS</td>\n",
              "      <td>[luka, aksi, rangka, penjara, ahok, ahok, gaga...</td>\n",
              "    </tr>\n",
              "    <tr>\n",
              "      <th>2</th>\n",
              "      <td>Non_HS</td>\n",
              "      <td>[sylvi, gurbernur, keras, perempuan, bukti, fo...</td>\n",
              "    </tr>\n",
              "    <tr>\n",
              "      <th>3</th>\n",
              "      <td>Non_HS</td>\n",
              "      <td>[ahmad, dhani, puas, debat, pilkada, jalan, be...</td>\n",
              "    </tr>\n",
              "    <tr>\n",
              "      <th>4</th>\n",
              "      <td>Non_HS</td>\n",
              "      <td>[waspada, ktp, palsukawal, pilkada]</td>\n",
              "    </tr>\n",
              "    <tr>\n",
              "      <th>...</th>\n",
              "      <td>...</td>\n",
              "      <td>...</td>\n",
              "    </tr>\n",
              "    <tr>\n",
              "      <th>708</th>\n",
              "      <td>HS</td>\n",
              "      <td>[muka, babi, ahok, serbet, lantai, btp]</td>\n",
              "    </tr>\n",
              "    <tr>\n",
              "      <th>709</th>\n",
              "      <td>HS</td>\n",
              "      <td>[bang, hancur, merka, bang, musnah, china, bab...</td>\n",
              "    </tr>\n",
              "    <tr>\n",
              "      <th>710</th>\n",
              "      <td>HS</td>\n",
              "      <td>[sapa, bilang, ahok, anti, korupsi, grombolann...</td>\n",
              "    </tr>\n",
              "    <tr>\n",
              "      <th>711</th>\n",
              "      <td>HS</td>\n",
              "      <td>[ngimpi, sentilin, biji, babi, ahok, pcetar, p...</td>\n",
              "    </tr>\n",
              "    <tr>\n",
              "      <th>712</th>\n",
              "      <td>HS</td>\n",
              "      <td>[mudah, ketemu, babi, iwan, bopeng, tps, nya, ...</td>\n",
              "    </tr>\n",
              "  </tbody>\n",
              "</table>\n",
              "<p>713 rows × 2 columns</p>\n",
              "</div>"
            ],
            "text/plain": [
              "      Label                                           Stemming\n",
              "0    Non_HS  [fadli, zon, mendagri, nonaktif, ahok, gubernu...\n",
              "1    Non_HS  [luka, aksi, rangka, penjara, ahok, ahok, gaga...\n",
              "2    Non_HS  [sylvi, gurbernur, keras, perempuan, bukti, fo...\n",
              "3    Non_HS  [ahmad, dhani, puas, debat, pilkada, jalan, be...\n",
              "4    Non_HS                [waspada, ktp, palsukawal, pilkada]\n",
              "..      ...                                                ...\n",
              "708      HS            [muka, babi, ahok, serbet, lantai, btp]\n",
              "709      HS  [bang, hancur, merka, bang, musnah, china, bab...\n",
              "710      HS  [sapa, bilang, ahok, anti, korupsi, grombolann...\n",
              "711      HS  [ngimpi, sentilin, biji, babi, ahok, pcetar, p...\n",
              "712      HS  [mudah, ketemu, babi, iwan, bopeng, tps, nya, ...\n",
              "\n",
              "[713 rows x 2 columns]"
            ]
          },
          "metadata": {
            "tags": []
          },
          "execution_count": 19
        }
      ]
    },
    {
      "cell_type": "markdown",
      "metadata": {
        "id": "0po3LoV2HsU2"
      },
      "source": [
        "Setelah itu melakukan penghapusan tanda baca dengan function remove_punctuation(), melakukan drop pada atribut Stemming, dan mengubah label HS --> 1 dan Non_HS --> 0"
      ]
    },
    {
      "cell_type": "code",
      "metadata": {
        "id": "2k3IcDwOKmFR"
      },
      "source": [
        "# Function remove punctuation 2\n",
        "def remove_punct(tweet):\n",
        "    tweet  = \" \".join([char for char in tweet if char not in string.punctuation])\n",
        "    return tweet"
      ],
      "execution_count": 20,
      "outputs": []
    },
    {
      "cell_type": "code",
      "metadata": {
        "id": "PXbyoKhvH3w7"
      },
      "source": [
        "df_feat['Tweet_Feature'] = df['Stemming'].apply(remove_punct)\n",
        "df_feat = df_feat.drop(['Stemming'], axis=1)"
      ],
      "execution_count": 21,
      "outputs": []
    },
    {
      "cell_type": "code",
      "metadata": {
        "id": "hkQL8Q1LS88Z"
      },
      "source": [
        "# Ubah Label\n",
        "df_feat['Label'].replace('Non_HS',0, inplace=True)\n",
        "df_feat['Label'].replace('HS',1, inplace=True)"
      ],
      "execution_count": 22,
      "outputs": []
    },
    {
      "cell_type": "code",
      "metadata": {
        "colab": {
          "base_uri": "https://localhost:8080/",
          "height": 407
        },
        "id": "KJMIbF2XIbd4",
        "outputId": "41e161db-1fe7-42ba-cc89-14a3178e50cf"
      },
      "source": [
        "df_feat"
      ],
      "execution_count": 23,
      "outputs": [
        {
          "output_type": "execute_result",
          "data": {
            "text/html": [
              "<div>\n",
              "<style scoped>\n",
              "    .dataframe tbody tr th:only-of-type {\n",
              "        vertical-align: middle;\n",
              "    }\n",
              "\n",
              "    .dataframe tbody tr th {\n",
              "        vertical-align: top;\n",
              "    }\n",
              "\n",
              "    .dataframe thead th {\n",
              "        text-align: right;\n",
              "    }\n",
              "</style>\n",
              "<table border=\"1\" class=\"dataframe\">\n",
              "  <thead>\n",
              "    <tr style=\"text-align: right;\">\n",
              "      <th></th>\n",
              "      <th>Label</th>\n",
              "      <th>Tweet_Feature</th>\n",
              "    </tr>\n",
              "  </thead>\n",
              "  <tbody>\n",
              "    <tr>\n",
              "      <th>0</th>\n",
              "      <td>0</td>\n",
              "      <td>fadli zon mendagri nonaktif ahok gubernur dki</td>\n",
              "    </tr>\n",
              "    <tr>\n",
              "      <th>1</th>\n",
              "      <td>0</td>\n",
              "      <td>luka aksi rangka penjara ahok ahok gagal pilkada</td>\n",
              "    </tr>\n",
              "    <tr>\n",
              "      <th>2</th>\n",
              "      <td>0</td>\n",
              "      <td>sylvi gurbernur keras perempuan bukti foto bareng</td>\n",
              "    </tr>\n",
              "    <tr>\n",
              "      <th>3</th>\n",
              "      <td>0</td>\n",
              "      <td>ahmad dhani puas debat pilkada jalan bekas ungkap</td>\n",
              "    </tr>\n",
              "    <tr>\n",
              "      <th>4</th>\n",
              "      <td>0</td>\n",
              "      <td>waspada ktp palsukawal pilkada</td>\n",
              "    </tr>\n",
              "    <tr>\n",
              "      <th>...</th>\n",
              "      <td>...</td>\n",
              "      <td>...</td>\n",
              "    </tr>\n",
              "    <tr>\n",
              "      <th>708</th>\n",
              "      <td>1</td>\n",
              "      <td>muka babi ahok serbet lantai btp</td>\n",
              "    </tr>\n",
              "    <tr>\n",
              "      <th>709</th>\n",
              "      <td>1</td>\n",
              "      <td>bang hancur merka bang musnah china babi bumi ...</td>\n",
              "    </tr>\n",
              "    <tr>\n",
              "      <th>710</th>\n",
              "      <td>1</td>\n",
              "      <td>sapa bilang ahok anti korupsi grombolannya ngo...</td>\n",
              "    </tr>\n",
              "    <tr>\n",
              "      <th>711</th>\n",
              "      <td>1</td>\n",
              "      <td>ngimpi sentilin biji babi ahok pcetar pcetar l...</td>\n",
              "    </tr>\n",
              "    <tr>\n",
              "      <th>712</th>\n",
              "      <td>1</td>\n",
              "      <td>mudah ketemu babi iwan bopeng tps nya anjing ahok</td>\n",
              "    </tr>\n",
              "  </tbody>\n",
              "</table>\n",
              "<p>713 rows × 2 columns</p>\n",
              "</div>"
            ],
            "text/plain": [
              "     Label                                      Tweet_Feature\n",
              "0        0      fadli zon mendagri nonaktif ahok gubernur dki\n",
              "1        0   luka aksi rangka penjara ahok ahok gagal pilkada\n",
              "2        0  sylvi gurbernur keras perempuan bukti foto bareng\n",
              "3        0  ahmad dhani puas debat pilkada jalan bekas ungkap\n",
              "4        0                     waspada ktp palsukawal pilkada\n",
              "..     ...                                                ...\n",
              "708      1                   muka babi ahok serbet lantai btp\n",
              "709      1  bang hancur merka bang musnah china babi bumi ...\n",
              "710      1  sapa bilang ahok anti korupsi grombolannya ngo...\n",
              "711      1  ngimpi sentilin biji babi ahok pcetar pcetar l...\n",
              "712      1  mudah ketemu babi iwan bopeng tps nya anjing ahok\n",
              "\n",
              "[713 rows x 2 columns]"
            ]
          },
          "metadata": {
            "tags": []
          },
          "execution_count": 23
        }
      ]
    },
    {
      "cell_type": "code",
      "metadata": {
        "id": "5DhUWW0JGlEX"
      },
      "source": [
        "feature = df_feat['Tweet_Feature']     # Memilih atribut untuk fitur\n",
        "target = df_feat['Label']              # Memilih atribut untuk target"
      ],
      "execution_count": 24,
      "outputs": []
    },
    {
      "cell_type": "markdown",
      "metadata": {
        "id": "Yfz2UDHGEmBk"
      },
      "source": [
        "### Feature Extraction, Set Data Train & Test"
      ]
    },
    {
      "cell_type": "markdown",
      "metadata": {
        "id": "rgnApx1p_16y"
      },
      "source": [
        "Langkah ini digunakan untuk membagi data ke dalam data train dan data test dengan perbandingan 70:30 sebelum dilakukan klasifikasi. Karena data setiap kelas tidak seimbang, sehingga menggunakan stratify agar pembagian data menjadi seimbang di setiap kelasnya."
      ]
    },
    {
      "cell_type": "code",
      "metadata": {
        "colab": {
          "base_uri": "https://localhost:8080/"
        },
        "id": "xs7fMbRXFmSK",
        "outputId": "533d3e47-c84e-4f17-8eb3-ab5339a7e205"
      },
      "source": [
        "# Set Training and Testing Data (70:30)\n",
        "X_trainf, X_testf, y_train, y_test  = train_test_split(feature , target, shuffle = True, test_size=0.3, stratify = target, random_state=100)\n",
        "\n",
        "# Show the Training and Testing Data\n",
        "print(X_trainf.shape)\n",
        "print(X_testf.shape)\n",
        "print(y_train.shape)\n",
        "print(y_test.shape)"
      ],
      "execution_count": 25,
      "outputs": [
        {
          "output_type": "stream",
          "text": [
            "(499,)\n",
            "(214,)\n",
            "(499,)\n",
            "(214,)\n"
          ],
          "name": "stdout"
        }
      ]
    },
    {
      "cell_type": "code",
      "metadata": {
        "id": "WmvgZWrlOFEU"
      },
      "source": [
        "# Feature Extraction\n",
        "vectorizer = TfidfVectorizer()\n",
        "vectorizer.fit(X_trainf)\n",
        "\n",
        "X_train = vectorizer.transform(X_trainf).toarray()\n",
        "X_test = vectorizer.transform(X_testf).toarray()"
      ],
      "execution_count": 26,
      "outputs": []
    },
    {
      "cell_type": "markdown",
      "metadata": {
        "id": "8JkxZibLLsoS"
      },
      "source": [
        "### Classification"
      ]
    },
    {
      "cell_type": "markdown",
      "metadata": {
        "id": "cJvK5pUqL9cA"
      },
      "source": [
        "#### Random Forest"
      ]
    },
    {
      "cell_type": "code",
      "metadata": {
        "id": "lnOW-xQZL_Wa"
      },
      "source": [
        "# Modeling Random Forest\n",
        "rf = RandomForestClassifier(n_estimators=100, random_state=0)\n",
        "rf.fit(X_train, y_train)\n",
        "\n",
        "# Predict to Test Data\n",
        "y_pred_rf= rf.predict(X_test)"
      ],
      "execution_count": 27,
      "outputs": []
    },
    {
      "cell_type": "markdown",
      "metadata": {
        "id": "8HYatLo5RYca"
      },
      "source": [
        "Model Evaluation"
      ]
    },
    {
      "cell_type": "code",
      "metadata": {
        "colab": {
          "base_uri": "https://localhost:8080/",
          "height": 334
        },
        "id": "v05eZqz4LrtO",
        "outputId": "1abb210d-ba20-4ae6-8425-feabab7b89b9"
      },
      "source": [
        "# Show the Confussion Matrix\n",
        "cm1 = metrics.confusion_matrix(y_test, y_pred_rf)\n",
        "plot_confusion_matrix(cm1, figsize=(5,5))\n",
        "plt.show()"
      ],
      "execution_count": 30,
      "outputs": [
        {
          "output_type": "display_data",
          "data": {
            "image/png": "[encoded data removed]",
            "text/plain": [
              "<Figure size 360x360 with 1 Axes>"
            ]
          },
          "metadata": {
            "tags": [],
            "needs_background": "light"
          }
        }
      ]
    },
    {
      "cell_type": "code",
      "metadata": {
        "colab": {
          "base_uri": "https://localhost:8080/"
        },
        "id": "7x_rATngPlxY",
        "outputId": "b6479eaf-22dd-445e-8ae2-6acc0f7fce48"
      },
      "source": [
        "# Print Classification Report\n",
        "print(classification_report(y_test, y_pred_rf))"
      ],
      "execution_count": 31,
      "outputs": [
        {
          "output_type": "stream",
          "text": [
            "              precision    recall  f1-score   support\n",
            "\n",
            "           0       0.85      0.98      0.91       136\n",
            "           1       0.95      0.69      0.80        78\n",
            "\n",
            "    accuracy                           0.87       214\n",
            "   macro avg       0.90      0.84      0.85       214\n",
            "weighted avg       0.88      0.87      0.87       214\n",
            "\n"
          ],
          "name": "stdout"
        }
      ]
    },
    {
      "cell_type": "code",
      "metadata": {
        "colab": {
          "base_uri": "https://localhost:8080/"
        },
        "id": "oPcuN4SlRmkK",
        "outputId": "7a527e03-6c9f-4176-9450-7f0670370e0c"
      },
      "source": [
        "# Show the Accuracy, Precision, Recall\n",
        "acc_rf = metrics.accuracy_score(y_test, y_pred_rf)\n",
        "prec_rf = metrics.precision_score(y_test, y_pred_rf)\n",
        "rec_rf = metrics.recall_score(y_test, y_pred_rf)\n",
        "f1_rf = metrics.f1_score(y_test, y_pred_rf)\n",
        "kappa_rf = metrics.cohen_kappa_score(y_test, y_pred_rf)\n",
        "\n",
        "print(\"Accuracy:\", acc_rf)\n",
        "print(\"Precision:\", prec_rf)\n",
        "print(\"Recall:\", rec_rf)\n",
        "print(\"F1 Score:\", f1_rf)\n",
        "print(\"Cohens Kappa Score:\", kappa_rf)"
      ],
      "execution_count": 32,
      "outputs": [
        {
          "output_type": "stream",
          "text": [
            "Accuracy: 0.8738317757009346\n",
            "Precision: 0.9473684210526315\n",
            "Recall: 0.6923076923076923\n",
            "F1 Score: 0.7999999999999999\n",
            "Cohens Kappa Score: 0.7110711071107111\n"
          ],
          "name": "stdout"
        }
      ]
    },
    {
      "cell_type": "code",
      "metadata": {
        "colab": {
          "base_uri": "https://localhost:8080/",
          "height": 295
        },
        "id": "OiToNSVKUwNf",
        "outputId": "637ce13c-63ac-422a-c9be-4fb7d1cb9167"
      },
      "source": [
        "# ROC Curve\n",
        "y_pred_rf_proba = rf.predict_proba(X_test)[::,1]\n",
        "fprrf, tprrf, _ = metrics.roc_curve(y_test,  y_pred_rf_proba)\n",
        "aucrf = metrics.roc_auc_score(y_test, y_pred_rf_proba)\n",
        "plt.plot(fprrf,tprrf,label=\"Random Forest, auc=\"+str(aucrf))\n",
        "plt.title('ROC Curve - Random Forest')\n",
        "plt.xlabel('false positive rate') \n",
        "plt.ylabel('true positive rate')\n",
        "plt.legend(loc=4)\n",
        "plt.show()"
      ],
      "execution_count": 33,
      "outputs": [
        {
          "output_type": "display_data",
          "data": {
            "image/png": "[encoded data removed]",
            "text/plain": [
              "<Figure size 432x288 with 1 Axes>"
            ]
          },
          "metadata": {
            "tags": [],
            "needs_background": "light"
          }
        }
      ]
    },
    {
      "cell_type": "markdown",
      "metadata": {
        "id": "774RvcXjReaF"
      },
      "source": [
        "#### KNN"
      ]
    },
    {
      "cell_type": "code",
      "metadata": {
        "id": "ofkqbpa6U4Xp"
      },
      "source": [
        "# Modeling KNN\n",
        "knn = KNeighborsClassifier(n_neighbors=7)\n",
        "knn.fit(X_train, y_train)\n",
        "\n",
        "# Predict to Test Data\n",
        "y_pred_knn= knn.predict(X_test)"
      ],
      "execution_count": 34,
      "outputs": []
    },
    {
      "cell_type": "markdown",
      "metadata": {
        "id": "mIUyoovNVXkP"
      },
      "source": [
        "Model Evaluation"
      ]
    },
    {
      "cell_type": "code",
      "metadata": {
        "colab": {
          "base_uri": "https://localhost:8080/",
          "height": 334
        },
        "id": "VSwUQQXDU4fp",
        "outputId": "b05201f8-4294-40d8-8f08-78bd6ecbc461"
      },
      "source": [
        "# Show the Confussion Matrix\n",
        "cm2 = metrics.confusion_matrix(y_test, y_pred_knn)\n",
        "plot_confusion_matrix(cm2, figsize=(5,5))\n",
        "plt.show()"
      ],
      "execution_count": 35,
      "outputs": [
        {
          "output_type": "display_data",
          "data": {
            "image/png": "[encoded data removed]",
            "text/plain": [
              "<Figure size 360x360 with 1 Axes>"
            ]
          },
          "metadata": {
            "tags": [],
            "needs_background": "light"
          }
        }
      ]
    },
    {
      "cell_type": "code",
      "metadata": {
        "colab": {
          "base_uri": "https://localhost:8080/"
        },
        "id": "UO0jjyurU4jV",
        "outputId": "08ea2a88-278d-463a-aad0-929587160903"
      },
      "source": [
        "# Print Classification Report\n",
        "print(classification_report(y_test, y_pred_knn))"
      ],
      "execution_count": 36,
      "outputs": [
        {
          "output_type": "stream",
          "text": [
            "              precision    recall  f1-score   support\n",
            "\n",
            "           0       0.82      0.93      0.87       136\n",
            "           1       0.84      0.65      0.73        78\n",
            "\n",
            "    accuracy                           0.83       214\n",
            "   macro avg       0.83      0.79      0.80       214\n",
            "weighted avg       0.83      0.83      0.82       214\n",
            "\n"
          ],
          "name": "stdout"
        }
      ]
    },
    {
      "cell_type": "code",
      "metadata": {
        "colab": {
          "base_uri": "https://localhost:8080/"
        },
        "id": "U9sEEj2jVP1I",
        "outputId": "c8d80996-03db-43e7-bda7-d8b9868a0119"
      },
      "source": [
        "# Show the Accuracy, Precision, Recall\n",
        "acc_knn = metrics.accuracy_score(y_test, y_pred_knn)\n",
        "prec_knn = metrics.precision_score(y_test, y_pred_knn)\n",
        "rec_knn = metrics.recall_score(y_test, y_pred_knn)\n",
        "f1_knn = metrics.f1_score(y_test, y_pred_knn)\n",
        "kappa_knn = metrics.cohen_kappa_score(y_test, y_pred_knn)\n",
        "\n",
        "print(\"Accuracy:\", acc_knn)\n",
        "print(\"Precision:\", prec_knn)\n",
        "print(\"Recall:\", rec_knn)\n",
        "print(\"F1 Score:\", f1_knn)\n",
        "print(\"Cohens Kappa Score:\", kappa_knn)"
      ],
      "execution_count": 37,
      "outputs": [
        {
          "output_type": "stream",
          "text": [
            "Accuracy: 0.8271028037383178\n",
            "Precision: 0.8360655737704918\n",
            "Recall: 0.6538461538461539\n",
            "F1 Score: 0.7338129496402876\n",
            "Cohens Kappa Score: 0.608601087493821\n"
          ],
          "name": "stdout"
        }
      ]
    },
    {
      "cell_type": "code",
      "metadata": {
        "colab": {
          "base_uri": "https://localhost:8080/",
          "height": 295
        },
        "id": "fHpuzc08VP8x",
        "outputId": "5877544d-9170-4bf7-9934-33b679a173ac"
      },
      "source": [
        "# ROC Curve\n",
        "y_pred_knn_proba = knn.predict_proba(X_test)[::,1]\n",
        "fprknn, tprknn, _ = metrics.roc_curve(y_test,  y_pred_knn_proba)\n",
        "aucknn = metrics.roc_auc_score(y_test, y_pred_knn_proba)\n",
        "plt.plot(fprknn,tprknn,label=\"KNN, auc=\"+str(aucknn))\n",
        "plt.title('ROC Curve - KNN')\n",
        "plt.xlabel('false positive rate') \n",
        "plt.ylabel('true positive rate')\n",
        "plt.legend(loc=4)\n",
        "plt.show()"
      ],
      "execution_count": 38,
      "outputs": [
        {
          "output_type": "display_data",
          "data": {
            "image/png": "[encoded data removed]",
            "text/plain": [
              "<Figure size 432x288 with 1 Axes>"
            ]
          },
          "metadata": {
            "tags": [],
            "needs_background": "light"
          }
        }
      ]
    },
    {
      "cell_type": "markdown",
      "metadata": {
        "id": "_F1CAKmtVwD7"
      },
      "source": [
        "#### Naive Bayes"
      ]
    },
    {
      "cell_type": "code",
      "metadata": {
        "id": "SgClauIlVvmm"
      },
      "source": [
        "# Modeling Naive Bayes Classifier\n",
        "gnb = MultinomialNB()\n",
        "gnb.fit(X_train, y_train)\n",
        "\n",
        "# Predict to Test Data\n",
        "y_pred_gnb= gnb.predict(X_test)"
      ],
      "execution_count": 41,
      "outputs": []
    },
    {
      "cell_type": "markdown",
      "metadata": {
        "id": "rKIXmaieV7ib"
      },
      "source": [
        "Model Evaluation"
      ]
    },
    {
      "cell_type": "code",
      "metadata": {
        "colab": {
          "base_uri": "https://localhost:8080/",
          "height": 334
        },
        "id": "eoxRHjK8V62y",
        "outputId": "041db4d2-a058-4987-ec89-19c98271f15d"
      },
      "source": [
        "# Show the Confussion Matrix\n",
        "cm3 = metrics.confusion_matrix(y_test, y_pred_gnb)\n",
        "plot_confusion_matrix(cm3, figsize=(5,5))\n",
        "plt.show()"
      ],
      "execution_count": 42,
      "outputs": [
        {
          "output_type": "display_data",
          "data": {
            "image/png": "[encoded data removed]",
            "text/plain": [
              "<Figure size 360x360 with 1 Axes>"
            ]
          },
          "metadata": {
            "tags": [],
            "needs_background": "light"
          }
        }
      ]
    },
    {
      "cell_type": "code",
      "metadata": {
        "colab": {
          "base_uri": "https://localhost:8080/"
        },
        "id": "1IZ_SqKVVP6l",
        "outputId": "1eb134e0-bdbf-46dd-ed75-931a9cc391c7"
      },
      "source": [
        "# Print Classification Report\n",
        "print(classification_report(y_test, y_pred_gnb))"
      ],
      "execution_count": 43,
      "outputs": [
        {
          "output_type": "stream",
          "text": [
            "              precision    recall  f1-score   support\n",
            "\n",
            "           0       0.82      0.98      0.89       136\n",
            "           1       0.94      0.63      0.75        78\n",
            "\n",
            "    accuracy                           0.85       214\n",
            "   macro avg       0.88      0.80      0.82       214\n",
            "weighted avg       0.87      0.85      0.84       214\n",
            "\n"
          ],
          "name": "stdout"
        }
      ]
    },
    {
      "cell_type": "code",
      "metadata": {
        "colab": {
          "base_uri": "https://localhost:8080/"
        },
        "id": "EM_KsmMDVP4k",
        "outputId": "35007501-30bf-4366-d1a2-aec9fc763e57"
      },
      "source": [
        "# Show the Accuracy, Precision, Recall\n",
        "acc_gnb = metrics.accuracy_score(y_test, y_pred_gnb)\n",
        "prec_gnb = metrics.precision_score(y_test, y_pred_gnb)\n",
        "rec_gnb = metrics.recall_score(y_test, y_pred_gnb)\n",
        "f1_gnb = metrics.f1_score(y_test, y_pred_gnb)\n",
        "kappa_gnb = metrics.cohen_kappa_score(y_test, y_pred_gnb)\n",
        "\n",
        "print(\"Accuracy:\", acc_gnb)\n",
        "print(\"Precision:\", prec_gnb)\n",
        "print(\"Recall:\", rec_gnb)\n",
        "print(\"F1 Score:\", f1_gnb)\n",
        "print(\"Cohens Kappa Score:\", kappa_gnb)"
      ],
      "execution_count": 44,
      "outputs": [
        {
          "output_type": "stream",
          "text": [
            "Accuracy: 0.8504672897196262\n",
            "Precision: 0.9423076923076923\n",
            "Recall: 0.6282051282051282\n",
            "F1 Score: 0.7538461538461538\n",
            "Cohens Kappa Score: 0.6525268926324335\n"
          ],
          "name": "stdout"
        }
      ]
    },
    {
      "cell_type": "code",
      "metadata": {
        "colab": {
          "base_uri": "https://localhost:8080/",
          "height": 295
        },
        "id": "dKF7ASlbWNC8",
        "outputId": "f557d17b-f8b6-452a-9a4e-19ecb2848539"
      },
      "source": [
        "# ROC Curve\n",
        "y_pred_gnb_proba = gnb.predict_proba(X_test)[::,1]\n",
        "fprgnb, tprgnb, _ = metrics.roc_curve(y_test,  y_pred_gnb_proba)\n",
        "aucgnb = metrics.roc_auc_score(y_test, y_pred_gnb_proba)\n",
        "plt.plot(fprgnb,tprgnb,label=\"Naive Bayes, auc=\"+str(aucgnb))\n",
        "plt.title('ROC Curve - Naive Bayes')\n",
        "plt.xlabel('false positive rate') \n",
        "plt.ylabel('true positive rate')\n",
        "plt.legend(loc=4)\n",
        "plt.show()"
      ],
      "execution_count": 45,
      "outputs": [
        {
          "output_type": "display_data",
          "data": {
            "image/png": "[encoded data removed]",
            "text/plain": [
              "<Figure size 432x288 with 1 Axes>"
            ]
          },
          "metadata": {
            "tags": [],
            "needs_background": "light"
          }
        }
      ]
    },
    {
      "cell_type": "markdown",
      "metadata": {
        "id": "2C_kE3ZZWU0K"
      },
      "source": [
        "#### Perbandingan Classification Report"
      ]
    },
    {
      "cell_type": "code",
      "metadata": {
        "colab": {
          "base_uri": "https://localhost:8080/"
        },
        "id": "8lFqnKmtWYhs",
        "outputId": "a53470ec-6255-47da-e2e9-bc95d69b1b7a"
      },
      "source": [
        "# Comparing Model Performance\n",
        "print(\"Random Forest Accuracy =\", acc_rf)\n",
        "print(\"Random Forest Precision =\", prec_rf)\n",
        "print(\"Random Forest Recall =\", rec_rf)\n",
        "print(\"Random Forest F1-Score =\", f1_rf)\n",
        "print(\"_______________________\")\n",
        "print(\"KNN Accuracy =\", acc_knn)\n",
        "print(\"KNN Precision =\", prec_knn)\n",
        "print(\"KNN Recall =\", rec_knn)\n",
        "print(\"KNN F1-Score =\", f1_knn)\n",
        "print(\"_______________________\")\n",
        "print(\"Naive Bayes Accuracy =\", acc_gnb)\n",
        "print(\"Naive Bayes Precision =\", prec_gnb)\n",
        "print(\"Naive Bayes Recall =\", rec_gnb)\n",
        "print(\"Naive Bayes F1-Score =\", f1_gnb)"
      ],
      "execution_count": 46,
      "outputs": [
        {
          "output_type": "stream",
          "text": [
            "Random Forest Accuracy = 0.8738317757009346\n",
            "Random Forest Precision = 0.9473684210526315\n",
            "Random Forest Recall = 0.6923076923076923\n",
            "Random Forest F1-Score = 0.7999999999999999\n",
            "_______________________\n",
            "KNN Accuracy = 0.8271028037383178\n",
            "KNN Precision = 0.8360655737704918\n",
            "KNN Recall = 0.6538461538461539\n",
            "KNN F1-Score = 0.7338129496402876\n",
            "_______________________\n",
            "Naive Bayes Accuracy = 0.8504672897196262\n",
            "Naive Bayes Precision = 0.9423076923076923\n",
            "Naive Bayes Recall = 0.6282051282051282\n",
            "Naive Bayes F1-Score = 0.7538461538461538\n"
          ],
          "name": "stdout"
        }
      ]
    },
    {
      "cell_type": "markdown",
      "metadata": {
        "id": "3YbdtXjaWXzs"
      },
      "source": [
        "#### Perbandingan ROC Curve"
      ]
    },
    {
      "cell_type": "code",
      "metadata": {
        "colab": {
          "base_uri": "https://localhost:8080/",
          "height": 295
        },
        "id": "s6FPySuoWibM",
        "outputId": "3f5255a4-00b3-4e60-d6fb-a17d60c8f319"
      },
      "source": [
        "# Comparing ROC Curve\n",
        "plt.plot(fprrf,tprrf,label=\"Random Forest, auc=\"+str(aucrf))\n",
        "plt.plot(fprknn,tprknn,label=\"KNN, auc=\"+str(aucknn))\n",
        "plt.plot(fprgnb,tprgnb,label=\"Naive Bayes, auc=\"+str(aucgnb))\n",
        "plt.title('ROC Curve')\n",
        "plt.xlabel('False Positive Rate')\n",
        "plt.ylabel('True Positive Rate')\n",
        "plt.legend(loc=4)\n",
        "plt.show()"
      ],
      "execution_count": 47,
      "outputs": [
        {
          "output_type": "display_data",
          "data": {
            "image/png": "[encoded data removed]",
            "text/plain": [
              "<Figure size 432x288 with 1 Axes>"
            ]
          },
          "metadata": {
            "tags": [],
            "needs_background": "light"
          }
        }
      ]
    },
    {
      "cell_type": "markdown",
      "metadata": {
        "id": "naThc9qwXTCb"
      },
      "source": [
        "### Kesimpulan"
      ]
    },
    {
      "cell_type": "markdown",
      "metadata": {
        "id": "8LesgIKGWtFs"
      },
      "source": [
        "Berdasarkan perbandingan 3 model yang telah dilakukan, didapatkan hasil terbaik yaitu performansi pada Random Forest. Hal ini berarti Random Forest adalah algoritma klasifikasi paling baik untuk prediksi hate speech menggunakan dataset ini. Berikut merupakan rincian performansi yang telah dihitung. <br>\n",
        "Accuracy Random Forest = 87,38%, <br>\n",
        "Precision Random Forest = 94.74%, <br>\n",
        "Recall Random Forest = 69.23%%, <br>\n",
        "F1-Score Random Forest = 79.99%, <br>\n",
        "AUC Random Forest = 94.59%."
      ]
    }
  ]
}